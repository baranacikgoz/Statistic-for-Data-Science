{
 "cells": [
  {
   "cell_type": "markdown",
   "metadata": {},
   "source": [
    "## Güven aralığı"
   ]
  },
  {
   "cell_type": "markdown",
   "metadata": {},
   "source": [
    "Bir websitemiz var diyelim, sitede geçirilen ortalama süre 180 saniye ve standart sapması 40 saniye diye bir veri var elimizde, bu verinin güven aralığı nedir ?"
   ]
  },
  {
   "cell_type": "markdown",
   "metadata": {},
   "source": [
    "### Adım 1 \n",
    "\n",
    "n, ortalama ve standart sapmayı bul\n",
    "\n",
    "n = 100, ortalama = 180, standart sapma = 40"
   ]
  },
  {
   "cell_type": "markdown",
   "metadata": {},
   "source": [
    "### Adım 2 \n",
    "\n",
    "Güven aralığına karar ver, %95mi %98mi %99 mu vesaire.\n",
    "\n",
    "Bütün fonksiyonlar ön tanımlı olarak %95 alır.\n",
    "\n",
    "Biz de %95 olarak kabul ettik ve Z tablo değeri; %95 için hep 1,96 dır sabit."
   ]
  },
  {
   "cell_type": "markdown",
   "metadata": {},
   "source": [
    "### Adım 3\n",
    "\n",
    "x̅ ± Z s/√n = 180 ± 1,96 * 40/√100"
   ]
  },
  {
   "cell_type": "markdown",
   "metadata": {},
   "source": [
    "180 ± 7,84 yani 172 ile 188 arasındadır."
   ]
  },
  {
   "cell_type": "markdown",
   "metadata": {},
   "source": [
    "#### Websitesine gelen 100 kişiden 95i 172 ile 188 saniye arası gezecektir."
   ]
  },
  {
   "cell_type": "code",
   "execution_count": null,
   "metadata": {},
   "outputs": [],
   "source": []
  }
 ],
 "metadata": {
  "kernelspec": {
   "display_name": "Python 3",
   "language": "python",
   "name": "python3"
  },
  "language_info": {
   "codemirror_mode": {
    "name": "ipython",
    "version": 3
   },
   "file_extension": ".py",
   "mimetype": "text/x-python",
   "name": "python",
   "nbconvert_exporter": "python",
   "pygments_lexer": "ipython3",
   "version": "3.7.6"
  }
 },
 "nbformat": 4,
 "nbformat_minor": 4
}
