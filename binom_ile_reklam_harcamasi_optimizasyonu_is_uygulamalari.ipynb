{
 "cells": [
  {
   "cell_type": "markdown",
   "metadata": {},
   "source": [
    "## Binom Dağılımı"
   ]
  },
  {
   "cell_type": "markdown",
   "metadata": {},
   "source": [
    "${\\displaystyle f(k;n,p)={n \\choose k}p^{k}(1-p)^{n-k}}$, k = 0, 1, 2, ...,n\n",
    "\n",
    "\n",
    "${\\displaystyle \\operatorname {E} (X)=np}$\n",
    "\n",
    "\n",
    "${\\displaystyle \\operatorname {Var} (X)=np(1-p)}$"
   ]
  },
  {
   "cell_type": "markdown",
   "metadata": {},
   "source": [
    "#### Bernoullinin n kere yapılmış hali."
   ]
  },
  {
   "cell_type": "markdown",
   "metadata": {},
   "source": [
    "# İş Uygulaması : Reklam Harcaması Optimizasyonu "
   ]
  },
  {
   "cell_type": "markdown",
   "metadata": {},
   "source": [
    "### Problem\n",
    "\n",
    "Çeşitli yerlerde reklam veriliyor, tıklanma ve geri dönüş oramları optimize edilmeye çalışılıyor. \n",
    "\n",
    "Dağılım ve reklama tıklama olasılığı biliniyor (0.01).\n",
    "\n",
    "* Soru: Reklamı 100 kişi gördüğünde 1 defa 5 defa ve 10 defa tıklanması olasılıkları nedir ? "
   ]
  },
  {
   "cell_type": "code",
   "execution_count": 1,
   "metadata": {},
   "outputs": [],
   "source": [
    "from scipy.stats import binom"
   ]
  },
  {
   "cell_type": "code",
   "execution_count": 3,
   "metadata": {},
   "outputs": [
    {
     "name": "stdout",
     "output_type": "stream",
     "text": [
      "0.36972963764971983\n",
      "0.0028977871237616114\n",
      "7.006035693977161e-08\n"
     ]
    }
   ],
   "source": [
    "p = 0.01\n",
    "n = 100\n",
    "problemimiz = binom(n,p)\n",
    "#dagilim reklama tiklama olasiligi p=0.01 oldugu bilinen bir durumda\n",
    "print(problemimiz.pmf(1))# 100 kiside 1 kisinin tiklama olasiligi\n",
    "print(problemimiz.pmf(5))# 100 kiside 5 kisinin tiklama olasiligi\n",
    "print(problemimiz.pmf(10))# 100 kiside 10 kisinin tiklama olasiligi"
   ]
  },
  {
   "cell_type": "markdown",
   "metadata": {},
   "source": [
    "7li değer şaşırtmasın üstünde 10 üzeri eksi'li değer var yani çok düşük"
   ]
  },
  {
   "cell_type": "code",
   "execution_count": null,
   "metadata": {},
   "outputs": [],
   "source": []
  }
 ],
 "metadata": {
  "kernelspec": {
   "display_name": "Python 3",
   "language": "python",
   "name": "python3"
  },
  "language_info": {
   "codemirror_mode": {
    "name": "ipython",
    "version": 3
   },
   "file_extension": ".py",
   "mimetype": "text/x-python",
   "name": "python",
   "nbconvert_exporter": "python",
   "pygments_lexer": "ipython3",
   "version": "3.7.6"
  }
 },
 "nbformat": 4,
 "nbformat_minor": 4
}
