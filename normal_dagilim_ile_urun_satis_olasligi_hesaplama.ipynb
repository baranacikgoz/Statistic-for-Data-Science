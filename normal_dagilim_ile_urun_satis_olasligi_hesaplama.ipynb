{
 "cells": [
  {
   "cell_type": "markdown",
   "metadata": {},
   "source": [
    "## Normal Dağılım"
   ]
  },
  {
   "cell_type": "markdown",
   "metadata": {},
   "source": [
    "${\\displaystyle f(x\\mid \\mu ,\\sigma ^{2})={\\frac {1}{\\sqrt {2\\pi \\sigma ^{2}}}}e^{-{\\frac {(x-\\mu )^{2}}{2\\sigma ^{2}}}}}$\n",
    "\n",
    "* $\\mu$  ortalama ya da dağılımın beklenen değeri\n",
    "\n",
    "* ${\\displaystyle \\sigma }$  standart sapma\n",
    "\n",
    "* ${\\displaystyle \\sigma ^{2}}$ varyans"
   ]
  },
  {
   "cell_type": "markdown",
   "metadata": {},
   "source": [
    "## Ürün Satış Olasılıklarının Hesaplanması\n",
    "\n",
    "### Detaylar:\n",
    "\n",
    "* Dağılımın normal olduğu biliniyor.\n",
    "* Aylık ortalama satış sayısı 80k, standart sapması 5k\n",
    "* 90k'dan fazla satış yapma olasılığı nedir ?"
   ]
  },
  {
   "cell_type": "markdown",
   "metadata": {},
   "source": [
    "En başta şunun bilincinde olmalıyız; ortalama 80 ise ve standart sapma 5 ise satışın 75 ile 85 arasında olma olasılığı çok yüksek, ancak 90lık bir satış yapma olasılığı soruluyor."
   ]
  },
  {
   "cell_type": "code",
   "execution_count": 1,
   "metadata": {},
   "outputs": [],
   "source": [
    "from scipy.stats import norm"
   ]
  },
  {
   "cell_type": "code",
   "execution_count": 2,
   "metadata": {},
   "outputs": [
    {
     "data": {
      "text/plain": [
       "0.02275013194817921"
      ]
     },
     "execution_count": 2,
     "metadata": {},
     "output_type": "execute_result"
    }
   ],
   "source": [
    "#90dan fazla olma olasiligi\n",
    "\n",
    "1-norm.cdf(90, 80, 5) # cdf = cumulative density funciton = kumulatif yogunluk fonksiyonu"
   ]
  },
  {
   "cell_type": "markdown",
   "metadata": {},
   "source": [
    "Neden 1'den çıkardık ? çünkü olasılık eğrisinde eğrinin tamamının altı = 1, ama biz 90dan fazla kısmının altındaki eğriyi istiyoruz bu yüzden bu yaptığımız hesabı 1den yani eğrinin tamamından çıkardık."
   ]
  },
  {
   "cell_type": "code",
   "execution_count": 3,
   "metadata": {},
   "outputs": [
    {
     "data": {
      "text/plain": [
       "0.9772498680518208"
      ]
     },
     "execution_count": 3,
     "metadata": {},
     "output_type": "execute_result"
    }
   ],
   "source": [
    "#70ten fazla olma olasılığı\n",
    "\n",
    "1-norm.cdf(70, 80, 5)"
   ]
  },
  {
   "cell_type": "markdown",
   "metadata": {},
   "source": [
    "Mantıken çok yüksek olması lazımdı ve öyle de oldu. %97 olasılık geldi."
   ]
  },
  {
   "cell_type": "code",
   "execution_count": 4,
   "metadata": {},
   "outputs": [
    {
     "data": {
      "text/plain": [
       "0.15865525393145707"
      ]
     },
     "execution_count": 4,
     "metadata": {},
     "output_type": "execute_result"
    }
   ],
   "source": [
    "#75ten az olma olasiligi\n",
    "\n",
    "norm.cdf(75, 80, 5)"
   ]
  },
  {
   "cell_type": "markdown",
   "metadata": {},
   "source": [
    "Az olma olasılığı dediğimiz için 1den çıkarmadık, çok olma olasılığı olsaydı çıkaracaktık yukarıdakiler ile aynı mantık."
   ]
  },
  {
   "cell_type": "code",
   "execution_count": 5,
   "metadata": {},
   "outputs": [
    {
     "data": {
      "text/plain": [
       "0.13590512198327787"
      ]
     },
     "execution_count": 5,
     "metadata": {},
     "output_type": "execute_result"
    }
   ],
   "source": [
    "# 85 ile 90 arasinda olma olasiligi\n",
    "\n",
    "norm.cdf(90, 80, 5) - norm.cdf(85, 80, 5)"
   ]
  },
  {
   "cell_type": "markdown",
   "metadata": {},
   "source": [
    "Bu değerler eğrinin altında kalan alanı temsil ettiği için integral mantığı ile üsttekinden alttakini çıkardık."
   ]
  },
  {
   "cell_type": "code",
   "execution_count": null,
   "metadata": {},
   "outputs": [],
   "source": []
  }
 ],
 "metadata": {
  "kernelspec": {
   "display_name": "Python 3",
   "language": "python",
   "name": "python3"
  },
  "language_info": {
   "codemirror_mode": {
    "name": "ipython",
    "version": 3
   },
   "file_extension": ".py",
   "mimetype": "text/x-python",
   "name": "python",
   "nbconvert_exporter": "python",
   "pygments_lexer": "ipython3",
   "version": "3.7.6"
  }
 },
 "nbformat": 4,
 "nbformat_minor": 4
}
