{
 "cells": [
  {
   "cell_type": "markdown",
   "metadata": {},
   "source": [
    "## Poisson Dağılımı\n",
    "\n",
    "${\\displaystyle f(x,\\lambda )={\\frac {\\lambda ^{x}e^{-\\lambda }}{x!}}\\,\\!}$,  x = 0,1,2,...,n"
   ]
  },
  {
   "cell_type": "markdown",
   "metadata": {},
   "source": [
    "Belirli bir zaman aralığında belirli bir alanda nadiren rastlanan olayların olaslığını hesaplamak için kullanılır."
   ]
  },
  {
   "cell_type": "markdown",
   "metadata": {},
   "source": [
    "### Poison dağılımının ilgi alanına girebilecek o nadir olayların örnekleri: \n",
    "\n",
    "* 10Bin kelimelik bir kitapta hatalı kelime sayısı\n",
    "\n",
    "* 4000 öğrencili okulda not girişinde hata yapılma sayısı\n",
    "\n",
    "* Çağrı merkezinde çalışanlara gelen taktir sayısı\n",
    "\n",
    "* Rötara düşen uçuş sefer sayısı \n",
    "\n",
    "ve benzeri olaylar"
   ]
  },
  {
   "cell_type": "markdown",
   "metadata": {},
   "source": [
    "Gözlem sayısının çok büyük, olabilecek şeyin küçük olduğu durumlar."
   ]
  },
  {
   "cell_type": "markdown",
   "metadata": {},
   "source": [
    "### Şartlar\n",
    "\n",
    "* Rassal denemeler 2 sonuçlu olmalı (rötarlı ya da normal, hatalı not ya da değil, taktir ya da değil, hatalı kelime ya da düzgün\n",
    "\n",
    "* Rassal denemeler aynı koşulda gerçekleşmeli.\n",
    " \n",
    "* Rassal denemeler birbirinden bağımsız olmalı."
   ]
  },
  {
   "cell_type": "code",
   "execution_count": null,
   "metadata": {},
   "outputs": [],
   "source": []
  }
 ],
 "metadata": {
  "kernelspec": {
   "display_name": "Python 3",
   "language": "python",
   "name": "python3"
  },
  "language_info": {
   "codemirror_mode": {
    "name": "ipython",
    "version": 3
   },
   "file_extension": ".py",
   "mimetype": "text/x-python",
   "name": "python",
   "nbconvert_exporter": "python",
   "pygments_lexer": "ipython3",
   "version": "3.7.6"
  }
 },
 "nbformat": 4,
 "nbformat_minor": 4
}
