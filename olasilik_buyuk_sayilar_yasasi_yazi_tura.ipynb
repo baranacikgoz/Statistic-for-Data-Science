{
 "cells": [
  {
   "cell_type": "markdown",
   "metadata": {},
   "source": [
    "## Büyük Sayılar Yasası"
   ]
  },
  {
   "cell_type": "markdown",
   "metadata": {},
   "source": [
    "**Bir rassal değişkenin uzun vadeli kararlılığını tanımlayan olasılık teoremidir.**"
   ]
  },
  {
   "cell_type": "code",
   "execution_count": 7,
   "metadata": {},
   "outputs": [],
   "source": [
    "import numpy as np\n",
    "rng = np.random.RandomState(123) #rng = random number generator, bu ismi biz verdik\n",
    "#RandomState = Random yapilacak isleri her seferinde sabitlemek icin kullanilan fonksiyon"
   ]
  },
  {
   "cell_type": "code",
   "execution_count": 9,
   "metadata": {},
   "outputs": [
    {
     "data": {
      "text/plain": [
       "array([0, 0, 1, 1, 0, 1, 1, 0, 1, 0])"
      ]
     },
     "execution_count": 9,
     "metadata": {},
     "output_type": "execute_result"
    }
   ],
   "source": [
    "rng.randint(0, 2, size = 10) # 0'la 2 arasında (2dahil) 5 rastgele sayi olustur."
   ]
  },
  {
   "cell_type": "markdown",
   "metadata": {},
   "source": [
    "Yazi tura gelme olayini uzun vadeli(deney sayisini arttirarak inceleyecegiz.)"
   ]
  },
  {
   "cell_type": "code",
   "execution_count": 14,
   "metadata": {},
   "outputs": [
    {
     "name": "stdout",
     "output_type": "stream",
     "text": [
      "Atış Sayısı: 2 --- Yazı Olasılığı: 0.00\n",
      "Atış Sayısı: 4 --- Yazı Olasılığı: 100.00\n",
      "Atış Sayısı: 8 --- Yazı Olasılığı: 12.50\n",
      "Atış Sayısı: 16 --- Yazı Olasılığı: 37.50\n",
      "Atış Sayısı: 32 --- Yazı Olasılığı: 71.88\n",
      "Atış Sayısı: 64 --- Yazı Olasılığı: 43.75\n",
      "Atış Sayısı: 128 --- Yazı Olasılığı: 44.53\n",
      "Atış Sayısı: 256 --- Yazı Olasılığı: 52.34\n",
      "Atış Sayısı: 512 --- Yazı Olasılığı: 51.76\n",
      "Atış Sayısı: 1024 --- Yazı Olasılığı: 46.97\n",
      "Atış Sayısı: 2048 --- Yazı Olasılığı: 48.73\n",
      "Atış Sayısı: 4096 --- Yazı Olasılığı: 49.58\n",
      "Atış Sayısı: 8192 --- Yazı Olasılığı: 50.42\n",
      "Atış Sayısı: 16384 --- Yazı Olasılığı: 49.29\n",
      "Atış Sayısı: 32768 --- Yazı Olasılığı: 49.95\n",
      "Atış Sayısı: 65536 --- Yazı Olasılığı: 50.17\n",
      "Atış Sayısı: 131072 --- Yazı Olasılığı: 49.70\n",
      "Atış Sayısı: 262144 --- Yazı Olasılığı: 50.06\n",
      "Atış Sayısı: 524288 --- Yazı Olasılığı: 50.11\n",
      "Atış Sayısı: 1048576 --- Yazı Olasılığı: 49.98\n"
     ]
    }
   ],
   "source": [
    "rng = np.random.RandomState(100)\n",
    "for i in np.arange(1,21):\n",
    "    deney_sayisi = 2**i\n",
    "    yazi_turalar = rng.randint(0, 2, size = deney_sayisi)\n",
    "    yazi_olasiliklari = np.mean(yazi_turalar)\n",
    "    print(\"Atış Sayısı:\",deney_sayisi,\"---\",'Yazı Olasılığı: %.2f' % (yazi_olasiliklari * 100))"
   ]
  },
  {
   "cell_type": "markdown",
   "metadata": {},
   "source": [
    "Atış sayısı arttıkça yazı tura gelme olasılığı %50ye yaklaşıyor."
   ]
  },
  {
   "cell_type": "code",
   "execution_count": null,
   "metadata": {},
   "outputs": [],
   "source": []
  }
 ],
 "metadata": {
  "kernelspec": {
   "display_name": "Python 3",
   "language": "python",
   "name": "python3"
  },
  "language_info": {
   "codemirror_mode": {
    "name": "ipython",
    "version": 3
   },
   "file_extension": ".py",
   "mimetype": "text/x-python",
   "name": "python",
   "nbconvert_exporter": "python",
   "pygments_lexer": "ipython3",
   "version": "3.7.6"
  }
 },
 "nbformat": 4,
 "nbformat_minor": 4
}
