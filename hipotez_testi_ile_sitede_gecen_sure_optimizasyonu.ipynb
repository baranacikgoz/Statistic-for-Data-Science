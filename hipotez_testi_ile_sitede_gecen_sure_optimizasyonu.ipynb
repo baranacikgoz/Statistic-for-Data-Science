{
 "cells": [
  {
   "cell_type": "markdown",
   "metadata": {},
   "source": [
    "## Problem: \n",
    "\n",
    "Bir e-ticaret sitesinde ödemeye gelene kadar 5 adım vardır, sepete ekleme, adres girme vs. ve bu adımların her brisinin 20 saniye olması isteniyor, adımlardan 4.sü sorgulanıyor.\n",
    "\n",
    "### Detaylar: \n",
    "\n",
    "* Durumu test etmek için 100 örnek alınıyor.\n",
    "\n",
    "* Örneğin standart sapması 5sn ve ortalaması 19sn.\n",
    "\n",
    "* Madem 19sn ortalama var tamam işte daha neyi test ediyoruz? \n",
    "\n",
    "**Şans eseri olmadığından emin olarak bilimsel olarak ortaya koymalıyız."
   ]
  },
  {
   "cell_type": "markdown",
   "metadata": {},
   "source": [
    "### Aşağıdaki adımları bilgisayar bizim için yapacak bilmeye gerek yok ama arkada dönen mantığı bilmek için önemli."
   ]
  },
  {
   "cell_type": "markdown",
   "metadata": {},
   "source": [
    "### Adım 1:\n",
    "#### Hipotezlerin kurulması ve yönlerinin belirlenmesi\n",
    "\n",
    "* Hipotez 1 = İnsanların geçirdiği süre 20dir.\n",
    "* Hipotez 2 = İnsanların geçirdiği süre 20 değildir."
   ]
  },
  {
   "cell_type": "markdown",
   "metadata": {},
   "source": [
    "### Adım 2:\n",
    "#### Anlamlılık düzeyinin ve tablo değerinin belirlenmesi\n",
    "\n",
    "α yani kabul edilebilir hata miktarı daha önceki iş uygulamalarında olduğu gibi bunda da %5 yani 0,05 kabul ettik.\n",
    "\n",
    "* α = 0,05\n",
    "\n",
    "Kurmuş olduğumuz hipotez testimiz 2 yönlü olduğu için alfayı 2 ye bölüyoruz ve 0,025 oldu.\n",
    "\n",
    "* Ztablo olasılık değeri = 0,5 - 0,025 = 0,475\n",
    "* 0,475in Ztablo'daki kritik değeri = -/+ 1,96dir."
   ]
  },
  {
   "cell_type": "markdown",
   "metadata": {},
   "source": [
    "### Adım 3:\n",
    "#### Test istatistiğinin belirlenmesi ve hesaplanması\n",
    "\n",
    "n değeri 30 dan büyük olduğu(bu problem için 100 kişi yani n=100) için t tipini ve z istatistiğini kullanıyoruz. Değerleri yerine koyacağız.\n",
    "\n",
    "(19-20)/(5/√100) = -2,00"
   ]
  },
  {
   "cell_type": "markdown",
   "metadata": {},
   "source": [
    "### Adım 4: \n",
    "#### Ztablo ve Zhesap karşılaştırması\n",
    "\n",
    "Tablo değeri olarak bulduğumuz +/-1,96 nın, bizim değerimiz - çıktığı için -1,96 olan halini alıyoruz ve -2,00 < -1,96 olduğu için tabloda reddetme bölgesine düşüyor.\n",
    "## Yani hipotez reddedildi."
   ]
  },
  {
   "cell_type": "markdown",
   "metadata": {},
   "source": [
    "### Adım 5: Yorum\n",
    "\n",
    "4. adımda geçirilen sürenin 20 saniye olduğunu öne süren hipotez1 reddedilmiştir. Kullanıcılar 4.adımda %95 güvenilirlik ile 20sn'den farklı zaman geçirmektedir ."
   ]
  },
  {
   "cell_type": "code",
   "execution_count": null,
   "metadata": {},
   "outputs": [],
   "source": []
  }
 ],
 "metadata": {
  "kernelspec": {
   "display_name": "Python 3",
   "language": "python",
   "name": "python3"
  },
  "language_info": {
   "codemirror_mode": {
    "name": "ipython",
    "version": 3
   },
   "file_extension": ".py",
   "mimetype": "text/x-python",
   "name": "python",
   "nbconvert_exporter": "python",
   "pygments_lexer": "ipython3",
   "version": "3.7.6"
  }
 },
 "nbformat": 4,
 "nbformat_minor": 4
}
